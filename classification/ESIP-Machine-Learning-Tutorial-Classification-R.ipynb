{
 "cells": [
  {
   "cell_type": "markdown",
   "metadata": {},
   "source": [
    "## 0 - Introduction  \n",
    "\n",
    "### Tutorial purpose\n",
    "To give you a clear overview of a basic machine learning workflow and to introduce you to the two (arguably) most fundamental classification methods: logistic regression and k-nearest neighbors.\n",
    "\n",
    "### Learning outcomes  \n",
    "\n",
    "After finishing this tutorial, you will be able to,  \n",
    "\n",
    "1. Understand the basic workflow of a machine learning based classification application;\n",
    "2. Implement a basic classification workflow using open source software;\n",
    "3. Interpret the results of a basic classification application.\n",
    "\n",
    "### Tutorial contents\n",
    "The tutorial will cover the following topics with relevant R codes:\n",
    "\n",
    "1. Data processing;\n",
    "2. Model building  \n",
    "-- K-nearest neighbors;  \n",
    "-- Random forests;  \n",
    "-- Confusion matrix;  \n",
    "3. Cross-validation;  \n",
    "4. Model selection;  \n",
    "5. Binary and multiclass classification;  \n",
    "\n",
    "### About the data sets  \n",
    "The data set is a snapshot by Landsat-8 OLI of Asheville, North Carolina taken from Landsat 8. The reference data we are using is the Cropland Data Layer (CDL) data from UDSA. It provides the land cover/land use types of each pixel for the same region. There is also a comma-separated values (CSV) file contains the set of random samples within the region with reference CDL land cover information and corresponding reflectance values for model training and evaluation. \n",
    "\n",
    "Check out the following links for more information:  \n",
    "\n",
    "[Landsat-8 OLI data](https://www.usgs.gov/land-resources/nli/landsat/landsat-8?qt-science_support_page_related_con=0#qt-science_support_page_related_con)\n",
    "\n",
    "[USDA Cropland Data Layer (CDL)](https://nassgeodata.gmu.edu/CropScape/)"
   ]
  },
  {
   "cell_type": "markdown",
   "metadata": {},
   "source": [
    "## 1 - Data processing  \n",
    "\n",
    "Before we starts to read in the data, we need to load libraries that will be used in the notebook. We will heavily rely on [**caret**](https://topepo.github.io/caret/index.html) library in R for model training. *caret* is a powerful wrapper package which calls hunders of machine learning packages in R and it simplify model training and application process. The pacakge currently supports 238 models that can be implemented in R using the same *train* and *prediction* procedures.  "
   ]
  },
  {
   "cell_type": "code",
   "execution_count": 3,
   "metadata": {},
   "outputs": [
    {
     "name": "stderr",
     "output_type": "stream",
     "text": [
      "\n",
      "********************************************************\n",
      "\n",
      "Note: As of version 1.0.0, cowplot does not change the\n",
      "\n",
      "  default ggplot2 theme anymore. To recover the previous\n",
      "\n",
      "  behavior, execute:\n",
      "  theme_set(theme_cowplot())\n",
      "\n",
      "********************************************************\n",
      "\n",
      "\n",
      "\n",
      "Attaching package: ‘dplyr’\n",
      "\n",
      "\n",
      "The following objects are masked from ‘package:stats’:\n",
      "\n",
      "    filter, lag\n",
      "\n",
      "\n",
      "The following objects are masked from ‘package:base’:\n",
      "\n",
      "    intersect, setdiff, setequal, union\n",
      "\n",
      "\n",
      "Loading required package: sp\n",
      "\n",
      "\n",
      "Attaching package: ‘raster’\n",
      "\n",
      "\n",
      "The following object is masked from ‘package:dplyr’:\n",
      "\n",
      "    select\n",
      "\n",
      "\n",
      "The following object is masked from ‘package:e1071’:\n",
      "\n",
      "    interpolate\n",
      "\n",
      "\n"
     ]
    }
   ],
   "source": [
    "library(caret); library(e1071); library(ranger)             # pacakge for ML model\n",
    "library(ggplot2); library(cowplot)                                # package for visualization\n",
    "library(readr); library(dplyr); library(raster)                   # package for data handeling"
   ]
  },
  {
   "cell_type": "markdown",
   "metadata": {},
   "source": [
    "### 1.1 - Data ingest \n",
    "\n",
    "First thing first, we will read in the data for this notebook which is included in this Github repository. The data file [*NC_L8_GroundTruth.csv*](https://github.com/geo-yrao/ML4ES-tutorials/blob/master/NC_L8_GroundTruth.csv) contains sampled pixels in western North Carolina. The data contains both the multispectral reflectance from Landsat-8 OLI data and corresponding land cover types from USGS Cropland Data Layer (CDL)."
   ]
  },
  {
   "cell_type": "code",
   "execution_count": 5,
   "metadata": {},
   "outputs": [
    {
     "name": "stderr",
     "output_type": "stream",
     "text": [
      "Warning message:\n",
      "“Missing column names filled in: 'X1' [1]”\n",
      "Parsed with column specification:\n",
      "cols(\n",
      "  X1 = \u001b[32mcol_double()\u001b[39m,\n",
      "  Latitude = \u001b[32mcol_double()\u001b[39m,\n",
      "  Longitude = \u001b[32mcol_double()\u001b[39m,\n",
      "  Class = \u001b[32mcol_double()\u001b[39m,\n",
      "  B1 = \u001b[32mcol_double()\u001b[39m,\n",
      "  B2 = \u001b[32mcol_double()\u001b[39m,\n",
      "  B3 = \u001b[32mcol_double()\u001b[39m,\n",
      "  B4 = \u001b[32mcol_double()\u001b[39m,\n",
      "  B5 = \u001b[32mcol_double()\u001b[39m,\n",
      "  B6 = \u001b[32mcol_double()\u001b[39m\n",
      ")\n",
      "\n"
     ]
    }
   ],
   "source": [
    "## Here, we read in the data pairs between reflectance (scale factor: 0.0001) and land cover types\n",
    "# fname <- \"~/NC_L8_GroundTruth.csv\"\n",
    "fname <- \"~/classification/NC_L8_GroundTruth.csv\"\n",
    "AVLData <- read_csv(fname); AVLData$Class <- factor(AVLData$Class, labels = c(\"Forest\", \"Corn\", \"Soy\", \"Urban\", \"Water\"))"
   ]
  },
  {
   "cell_type": "markdown",
   "metadata": {},
   "source": [
    "### 1.2 - Data exploration\n",
    "\n",
    "Our data contains the location (*\"Latitude\",\"Longitude\"*), land cover type (*\"Class\"*), and reflectance of six OLI channels (*\"B1\"~\"B6\"*). Let's first check how the data frame looks like."
   ]
  },
  {
   "cell_type": "code",
   "execution_count": null,
   "metadata": {},
   "outputs": [],
   "source": [
    "## We can show the first 10 rows of the data frame \n",
    "head(AVLData, 10)"
   ]
  },
  {
   "cell_type": "markdown",
   "metadata": {},
   "source": [
    "The following table present the information about the six [OLI chanles](https://en.wikipedia.org/wiki/Landsat_8) included in the data. The reflectance data can provide unique information to charaterize different land cover types.\n",
    "\n",
    "| Channel No. | Channel Name | Wavelength |\n",
    "|-:|-:|:-:|\n",
    "|B1|Coastal/Areasol|0.433 – 0.453 μm| \n",
    "|B2|Blue|0.450 – 0.515 μm|\n",
    "|B3|Green|0.525 – 0.600 μm|\n",
    "|B4|Red|0.630 – 0.680 μm|\n",
    "|B5|Near Infrared|0.845 – 0.885 μm|\n",
    "|B6|Short Wavelength Infrared|1.560 – 1.660 μm|"
   ]
  },
  {
   "cell_type": "markdown",
   "metadata": {},
   "source": [
    "### 1.3 - Viewing class historgram  \n",
    "\n",
    "We want to understand how many samples belong to each class. In our data, there are five different classes as listed in the table below. This information can be found in the file *\"label_information.txt\"*.  \n",
    "\n",
    "| Class No. | Land Cover Type |\n",
    "|-:|-:|\n",
    "|0|Forest| \n",
    "|1|Corn|\n",
    "|2|Soy|\n",
    "|3|Development/Urban|\n",
    "|4|Water| \n",
    "\n",
    "Here, we create a histogram to examing the histogram of land cover types in the data."
   ]
  },
  {
   "cell_type": "code",
   "execution_count": 6,
   "metadata": {},
   "outputs": [
    {
     "data": {
      "image/png": "[encoded data removed]",
      "text/plain": [
       "plot without title"
      ]
     },
     "metadata": {
      "image/png": {
       "height": 420,
       "width": 420
      },
      "text/plain": {
       "height": 420,
       "width": 420
      }
     },
     "output_type": "display_data"
    }
   ],
   "source": [
    "# Show the histogram of different land cover types using ggplot2\n",
    "AVLData %>% ggplot() + geom_bar(aes(Class), color=\"black\", fill=\"forestgreen\") +\n",
    "  labs(x=\"Class\", y=\"No. of Samples\") + scale_y_continuous(lim=c(0,550), expand=c(0,0)) +\n",
    "  theme_bw() + theme(text=element_text(size=15))"
   ]
  },
  {
   "cell_type": "markdown",
   "metadata": {},
   "source": [
    "As you can see, the data is overall well balanced across different classes except for forest (*Class == 0*). \n",
    "\n",
    "### 1.4 - Feature space  \n",
    "\n",
    "Before we dive into model training, we can examine the features (i.e., reflectance) that will be used for building the classifier. We use Channel 2 and 5 as an example. Please consider modify the code below to explore different feature combinations.  \n"
   ]
  },
  {
   "cell_type": "code",
   "execution_count": null,
   "metadata": {},
   "outputs": [],
   "source": [
    "## We use ggplot2 again here to plot the scatter plot of B2 and B5\n",
    "AVLData %>% ggplot(aes(x=B2,y=B5)) + geom_point(aes(color=Class), pch=21, size=2) + theme_bw() +\n",
    "  coord_cartesian(xlim=c(0, 3000), ylim=c(0, 6000), expand=F) + \n",
    "  scale_color_manual(values = c(\"forestgreen\", \"orange\", \"purple\", \"grey25\", \"royalblue\")) + \n",
    "  labs(x = \"Band 2\", y = \"Band 5\") +  theme(text=element_text(size=15))"
   ]
  },
  {
   "cell_type": "markdown",
   "metadata": {},
   "source": [
    "It looks like the forest/corn/soy can be easily separated from urban and water, while it might be diffcult to distinguish forest, soy, and corn from each other. This is reasonable since all vegetation share similar spectral signatures that are unique comparing to water and urban classes. But the spectral differences between different vegetation types could be small in certain feature combinations. In the next code chunk, please try to modify the code to see other feature combinations (e.g., B2 v.s. B6)."
   ]
  },
  {
   "cell_type": "code",
   "execution_count": null,
   "metadata": {},
   "outputs": [],
   "source": [
    "### Consider how you can modify the code from last chunk and create a new scatter plot between B2 and B6;\n",
    "### What does the feature space look like? Can you distinguish different classes here?\n"
   ]
  },
  {
   "cell_type": "markdown",
   "metadata": {},
   "source": [
    "To build our classification model, we first need to **split the data** into different sets for model development and testing. Let's follow the convention ratio of data spliting -- 80% for model development and 20% for testing. We will implement cross validation in the training using the model development dataset. \n",
    "\n",
    "There are different ways to implement data splitting. In our case, we want to make sure that all classes are well represented in both data sets. Idealy, we want both data sets can reflect on the \"reality\" so we will use stratified spliting."
   ]
  },
  {
   "cell_type": "code",
   "execution_count": 7,
   "metadata": {},
   "outputs": [
    {
     "name": "stderr",
     "output_type": "stream",
     "text": [
      "Warning message:\n",
      "“The `i` argument of ``[`()` can't be a matrix as of tibble 3.0.0.\n",
      "Convert to a vector.\n",
      "\u001b[90mThis warning is displayed once every 8 hours.\u001b[39m\n",
      "\u001b[90mCall `lifecycle::last_warnings()` to see where this warning was generated.\u001b[39m”\n"
     ]
    },
    {
     "data": {
      "image/png": "[encoded data removed]",
      "text/plain": [
       "plot without title"
      ]
     },
     "metadata": {
      "image/png": {
       "height": 420,
       "width": 420
      },
      "text/plain": {
       "height": 420,
       "width": 420
      }
     },
     "output_type": "display_data"
    }
   ],
   "source": [
    "## spliting the data based on the outcome -- classes; 80% for modeling, 20% for testing.\n",
    "## This is the default spliting methonds in caret via function createDataPartition\n",
    "## to learn more about the function, try \"? createDataPartition\"\n",
    "\n",
    "## In order to make sure the data partition can be reproduced, we set the seed number before partition, \n",
    "## so the psudo random number is fixed for each execution\n",
    "set.seed(982)\n",
    "trainIndex <- createDataPartition(AVLData$Class, p=0.8, list=FALSE, times = 1)\n",
    "trainData  <- AVLData[trainIndex,]; testData <- AVLData[-trainIndex,]\n",
    "\n",
    "## Compare the relative frequency for both dataset with the original data using ggplot2\n",
    "p1 <- AVLData %>% ggplot() + labs(x=\"Class\", y=\"Relative Frequency\") + theme_bw() + \n",
    "  geom_bar(aes(Class, y=..count../nrow(AVLData)), color=\"black\", fill=\"forestgreen\") +\n",
    "  scale_y_continuous(lim=c(0,0.25), breaks = seq(0,0.3,0.1), expand=c(0,0)) +\n",
    "  theme(text=element_text(size=15)) ## ploting for overall data\n",
    "p2 <- trainData %>% ggplot() + labs(x=\"Class (Training)\", y=\"Relative Frequency\") + \n",
    "  geom_bar(aes(Class, y=..count../nrow(trainData)), color=\"black\", fill=\"royalblue\") +\n",
    "  scale_y_continuous(lim=c(0,0.25), breaks = seq(0,0.3,0.1), expand=c(0,0)) +\n",
    "  theme_bw() + theme(text=element_text(size=15)) ## ploting for training data\n",
    "p3 <- testData %>% ggplot() + labs(x=\"Class (Testing)\", y=\"Relative Frequency\") + \n",
    "  geom_bar(aes(Class, y=..count../nrow(testData)), color=\"black\", fill=\"salmon\") +\n",
    "  scale_y_continuous(lim=c(0,0.25), breaks = seq(0,0.3,0.1), expand=c(0,0)) +\n",
    "  theme_bw() + theme(text=element_text(size=15)) ## ploting for testing data\n",
    "\n",
    "## putting three plots together via cowplot::plot_grid function\n",
    "cowplot::plot_grid(p1,p2,p3, nrow=1, ncol=3)"
   ]
  },
  {
   "cell_type": "markdown",
   "metadata": {},
   "source": [
    "How would this splitting different from simple random spliting? Let's see the difference!  \n"
   ]
  },
  {
   "cell_type": "code",
   "execution_count": 8,
   "metadata": {},
   "outputs": [
    {
     "data": {
      "image/png": "[encoded data removed]",
      "text/plain": [
       "plot without title"
      ]
     },
     "metadata": {
      "image/png": {
       "height": 420,
       "width": 420
      },
      "text/plain": {
       "height": 420,
       "width": 420
      }
     },
     "output_type": "display_data"
    }
   ],
   "source": [
    "set.seed(798)\n",
    "nobs <- nrow(AVLData)  # this get the total number of samples\n",
    "randIndex <- sample(1:nobs, nobs*0.8); # First, we generate the random index for simple random sampling 80%:20%\n",
    "trainRand <- AVLData[ randIndex,]; testRand <- AVLData[-randIndex,] ## simple random spliting dataset\n",
    "\n",
    "## let's see the comparison of the relative frequency again\n",
    "## Compare the relative frequency data for both dataset with the original data\n",
    "p1 <- AVLData %>% ggplot() + labs(x=\"Land Cover Type\", y=\"Relative Frequency\") + \n",
    "  geom_bar(aes(Class, y=..count../nrow(AVLData)), color=\"black\", fill=\"forestgreen\") +\n",
    "  scale_y_continuous(lim=c(0,0.25), breaks = seq(0,0.3,0.1), expand=c(0,0)) +\n",
    "  theme_bw() + theme(text=element_text(size=14)) ## ploting for overall data\n",
    "p2 <- trainRand %>% ggplot() +  labs(x=\"Land Cover Type (trainRand)\", y=\"Relative Frequency\") + \n",
    "  geom_bar(aes(Class, y=..count../nrow(trainRand)), color=\"black\", fill=\"royalblue\") +\n",
    "  scale_y_continuous(lim=c(0,0.25), breaks = seq(0,0.3,0.1), expand=c(0,0)) +\n",
    "  theme_bw() + theme(text=element_text(size=14)) ## ploting for training data\n",
    "p3 <- testRand %>% ggplot() + labs(x=\"Land Cover Type (testRand)\", y=\"Relative Frequency\") +\n",
    "  geom_bar(aes(Class, y=..count../nrow(testRand)), color=\"black\", fill=\"salmon\") +\n",
    "  scale_y_continuous(lim=c(0,0.25), breaks = seq(0,0.3,0.1), expand=c(0,0)) +\n",
    "  theme_bw() + theme(text=element_text(size=14)) ## ploting for testing data\n",
    "\n",
    "## putting three plots together via cowplot\n",
    "cowplot::plot_grid(p1,p2,p3, nrow=1, ncol=3)"
   ]
  },
  {
   "cell_type": "markdown",
   "metadata": {},
   "source": [
    "We can see the difference on the relative frequency in training and testing datasets, which is something that we want to avoid when we are partitioning the data for model development. In extreme cases, the imbalance sample could lead to unreliable model training and/or testing results. We will not explore the impact in this tutorial. [This article](https://machinelearningmastery.com/what-is-imbalanced-classification/) provides a good overview of imbalanced classification problem in machine learning.\n",
    "\n",
    "### 1.6 - Simpilying to a binary classification example  \n",
    "\n",
    "As our first classifier, let's focus on a binary classifier example. So we first keep samples of forests (*Class == 0*) and water (*Class == 4*). We will implement the multiclass classification later.\n"
   ]
  },
  {
   "cell_type": "code",
   "execution_count": 9,
   "metadata": {},
   "outputs": [],
   "source": [
    "## We use filter function from dplyr to screen the data\n",
    "binData <- AVLData %>% filter(Class == \"Forest\" | Class == \"Water\") \n",
    "binTrain <- trainData %>% filter(Class==\"Forest\" | Class==\"Water\"); binTrain$Class <- droplevels(binTrain$Class)\n",
    "binTest  <- testData  %>% filter(Class==\"Forest\" | Class==\"Water\"); binTest$Class <- droplevels(binTest$Class)"
   ]
  },
  {
   "cell_type": "markdown",
   "metadata": {},
   "source": [
    "## 2 - Model building \n",
    "\n",
    "### 2.1 - K-nearest neighbor (k-NN)\n",
    "\n",
    "Now we have training and testing data ready, let's creat our first classifier, [**k-nearest neighbor (k-NN)**](https://en.wikipedia.org/wiki/K-nearest_neighbors_algorithm). It is probably one of the most intuitive classification models. k-NN assumes that the class of a given unknow data point is determined by the classes of its closest \"neighbors\" in the feature space. There is one hyperparameter that need to be determined by us, which is the number of neighbors (__*k*__) used to determine the class of any data points.  \n",
    "\n",
    "There are different variations of k-NN model which are developed to improve its performance for different challenging tasks. But here we will use the classic k-NN model. In *caret* package, the k-NN model is represented using the tag *\"knn\"*. "
   ]
  },
  {
   "cell_type": "code",
   "execution_count": 10,
   "metadata": {},
   "outputs": [
    {
     "data": {
      "text/html": [
       "<strong>$knn</strong> = <dl>\n",
       "\t<dt>$label</dt>\n",
       "\t\t<dd>'k-Nearest Neighbors'</dd>\n",
       "\t<dt>$library</dt>\n",
       "\t\t<dd>NULL</dd>\n",
       "\t<dt>$loop</dt>\n",
       "\t\t<dd>NULL</dd>\n",
       "\t<dt>$type</dt>\n",
       "\t\t<dd><style>\n",
       ".list-inline {list-style: none; margin:0; padding: 0}\n",
       ".list-inline>li {display: inline-block}\n",
       ".list-inline>li:not(:last-child)::after {content: \"\\00b7\"; padding: 0 .5ex}\n",
       "</style>\n",
       "<ol class=list-inline><li>'Classification'</li><li>'Regression'</li></ol>\n",
       "</dd>\n",
       "\t<dt>$parameters</dt>\n",
       "\t\t<dd><table>\n",
       "<caption>A data.frame: 1 × 3</caption>\n",
       "<thead>\n",
       "\t<tr><th scope=col>parameter</th><th scope=col>class</th><th scope=col>label</th></tr>\n",
       "\t<tr><th scope=col>&lt;chr&gt;</th><th scope=col>&lt;chr&gt;</th><th scope=col>&lt;chr&gt;</th></tr>\n",
       "</thead>\n",
       "<tbody>\n",
       "\t<tr><td>k</td><td>numeric</td><td>#Neighbors</td></tr>\n",
       "</tbody>\n",
       "</table>\n",
       "</dd>\n",
       "\t<dt>$grid</dt>\n",
       "\t\t<dd><pre class=language-r><code>function (x, y, len = NULL, search = \"grid\") \n",
       "{\n",
       "<span style=white-space:pre-wrap>    if (search == \"grid\") {</span>\n",
       "<span style=white-space:pre-wrap>        out &lt;- data.frame(k = (5:((2 * len) + 4))[(5:((2 * len) + </span>\n",
       "<span style=white-space:pre-wrap>            4))%%2 &gt; 0])</span>\n",
       "<span style=white-space:pre-wrap>    }</span>\n",
       "<span style=white-space:pre-wrap>    else {</span>\n",
       "<span style=white-space:pre-wrap>        by_val &lt;- if (is.factor(y)) </span>\n",
       "<span style=white-space:pre-wrap>            length(levels(y))</span>\n",
       "<span style=white-space:pre-wrap>        else 1</span>\n",
       "<span style=white-space:pre-wrap>        out &lt;- data.frame(k = sample(seq(1, floor(nrow(x)/3), </span>\n",
       "<span style=white-space:pre-wrap>            by = by_val), size = len, replace = TRUE))</span>\n",
       "<span style=white-space:pre-wrap>    }</span>\n",
       "}</code></pre></dd>\n",
       "\t<dt>$fit</dt>\n",
       "\t\t<dd><pre class=language-r><code>function (x, y, wts, param, lev, last, classProbs, ...) \n",
       "{\n",
       "<span style=white-space:pre-wrap>    if (is.factor(y)) {</span>\n",
       "<span style=white-space:pre-wrap>        knn3(as.matrix(x), y, k = param$k, ...)</span>\n",
       "<span style=white-space:pre-wrap>    }</span>\n",
       "<span style=white-space:pre-wrap>    else {</span>\n",
       "<span style=white-space:pre-wrap>        knnreg(as.matrix(x), y, k = param$k, ...)</span>\n",
       "<span style=white-space:pre-wrap>    }</span>\n",
       "}</code></pre></dd>\n",
       "\t<dt>$predict</dt>\n",
       "\t\t<dd><pre class=language-r><code>function (modelFit, newdata, submodels = NULL) \n",
       "{\n",
       "<span style=white-space:pre-wrap>    if (modelFit$problemType == \"Classification\") {</span>\n",
       "<span style=white-space:pre-wrap>        out &lt;- predict(modelFit, newdata, type = \"class\")</span>\n",
       "<span style=white-space:pre-wrap>    }</span>\n",
       "<span style=white-space:pre-wrap>    else {</span>\n",
       "<span style=white-space:pre-wrap>        out &lt;- predict(modelFit, newdata)</span>\n",
       "<span style=white-space:pre-wrap>    }</span>\n",
       "<span style=white-space:pre-wrap>    out</span>\n",
       "}</code></pre></dd>\n",
       "\t<dt>$predictors</dt>\n",
       "\t\t<dd><pre class=language-r><code>function (x, ...) \n",
       "colnames(x$learn$X)</code></pre></dd>\n",
       "\t<dt>$tags</dt>\n",
       "\t\t<dd>'Prototype Models'</dd>\n",
       "\t<dt>$prob</dt>\n",
       "\t\t<dd><pre class=language-r><code>function (modelFit, newdata, submodels = NULL) \n",
       "predict(modelFit, newdata, type = \"prob\")</code></pre></dd>\n",
       "\t<dt>$levels</dt>\n",
       "\t\t<dd><pre class=language-r><code>function (x) \n",
       "levels(x$learn$y)</code></pre></dd>\n",
       "\t<dt>$sort</dt>\n",
       "\t\t<dd><pre class=language-r><code>function (x) \n",
       "x[order(-x[, 1]), ]</code></pre></dd>\n",
       "</dl>\n"
      ],
      "text/latex": [
       "\\textbf{\\$knn} = \\begin{description}\n",
       "\\item[\\$label] 'k-Nearest Neighbors'\n",
       "\\item[\\$library] NULL\n",
       "\\item[\\$loop] NULL\n",
       "\\item[\\$type] \\begin{enumerate*}\n",
       "\\item 'Classification'\n",
       "\\item 'Regression'\n",
       "\\end{enumerate*}\n",
       "\n",
       "\\item[\\$parameters] A data.frame: 1 × 3\n",
       "\\begin{tabular}{lll}\n",
       " parameter & class & label\\\\\n",
       " <chr> & <chr> & <chr>\\\\\n",
       "\\hline\n",
       "\t k & numeric & \\#Neighbors\\\\\n",
       "\\end{tabular}\n",
       "\n",
       "\\item[\\$grid] \\begin{minted}{r}\n",
       "function (x, y, len = NULL, search = \"grid\") \n",
       "\\{\n",
       "    if (search == \"grid\") \\{\n",
       "        out <- data.frame(k = (5:((2 * len) + 4)){[}(5:((2 * len) + \n",
       "            4))\\%\\%2 > 0{]})\n",
       "    \\}\n",
       "    else \\{\n",
       "        by\\_val <- if (is.factor(y)) \n",
       "            length(levels(y))\n",
       "        else 1\n",
       "        out <- data.frame(k = sample(seq(1, floor(nrow(x)/3), \n",
       "            by = by\\_val), size = len, replace = TRUE))\n",
       "    \\}\n",
       "\\}\n",
       "\\end{minted}\n",
       "\\item[\\$fit] \\begin{minted}{r}\n",
       "function (x, y, wts, param, lev, last, classProbs, ...) \n",
       "\\{\n",
       "    if (is.factor(y)) \\{\n",
       "        knn3(as.matrix(x), y, k = param\\$k, ...)\n",
       "    \\}\n",
       "    else \\{\n",
       "        knnreg(as.matrix(x), y, k = param\\$k, ...)\n",
       "    \\}\n",
       "\\}\n",
       "\\end{minted}\n",
       "\\item[\\$predict] \\begin{minted}{r}\n",
       "function (modelFit, newdata, submodels = NULL) \n",
       "\\{\n",
       "    if (modelFit\\$problemType == \"Classification\") \\{\n",
       "        out <- predict(modelFit, newdata, type = \"class\")\n",
       "    \\}\n",
       "    else \\{\n",
       "        out <- predict(modelFit, newdata)\n",
       "    \\}\n",
       "    out\n",
       "\\}\n",
       "\\end{minted}\n",
       "\\item[\\$predictors] \\begin{minted}{r}\n",
       "function (x, ...) \n",
       "colnames(x\\$learn\\$X)\n",
       "\\end{minted}\n",
       "\\item[\\$tags] 'Prototype Models'\n",
       "\\item[\\$prob] \\begin{minted}{r}\n",
       "function (modelFit, newdata, submodels = NULL) \n",
       "predict(modelFit, newdata, type = \"prob\")\n",
       "\\end{minted}\n",
       "\\item[\\$levels] \\begin{minted}{r}\n",
       "function (x) \n",
       "levels(x\\$learn\\$y)\n",
       "\\end{minted}\n",
       "\\item[\\$sort] \\begin{minted}{r}\n",
       "function (x) \n",
       "x{[}order(-x{[}, 1{]}), {]}\n",
       "\\end{minted}\n",
       "\\end{description}\n"
      ],
      "text/markdown": [
       "**$knn** = $label\n",
       ":   'k-Nearest Neighbors'\n",
       "$library\n",
       ":   NULL\n",
       "$loop\n",
       ":   NULL\n",
       "$type\n",
       ":   1. 'Classification'\n",
       "2. 'Regression'\n",
       "\n",
       "\n",
       "\n",
       "$parameters\n",
       ":   \n",
       "A data.frame: 1 × 3\n",
       "\n",
       "| parameter &lt;chr&gt; | class &lt;chr&gt; | label &lt;chr&gt; |\n",
       "|---|---|---|\n",
       "| k | numeric | #Neighbors |\n",
       "\n",
       "\n",
       "$grid\n",
       ":   ```r\n",
       "function (x, y, len = NULL, search = \"grid\") \n",
       "{\n",
       "    if (search == \"grid\") {\n",
       "        out <- data.frame(k = (5:((2 * len) + 4))[(5:((2 * len) + \n",
       "            4))%%2 > 0])\n",
       "    }\n",
       "    else {\n",
       "        by_val <- if (is.factor(y)) \n",
       "            length(levels(y))\n",
       "        else 1\n",
       "        out <- data.frame(k = sample(seq(1, floor(nrow(x)/3), \n",
       "            by = by_val), size = len, replace = TRUE))\n",
       "    }\n",
       "}\n",
       "```\n",
       "$fit\n",
       ":   ```r\n",
       "function (x, y, wts, param, lev, last, classProbs, ...) \n",
       "{\n",
       "    if (is.factor(y)) {\n",
       "        knn3(as.matrix(x), y, k = param$k, ...)\n",
       "    }\n",
       "    else {\n",
       "        knnreg(as.matrix(x), y, k = param$k, ...)\n",
       "    }\n",
       "}\n",
       "```\n",
       "$predict\n",
       ":   ```r\n",
       "function (modelFit, newdata, submodels = NULL) \n",
       "{\n",
       "    if (modelFit$problemType == \"Classification\") {\n",
       "        out <- predict(modelFit, newdata, type = \"class\")\n",
       "    }\n",
       "    else {\n",
       "        out <- predict(modelFit, newdata)\n",
       "    }\n",
       "    out\n",
       "}\n",
       "```\n",
       "$predictors\n",
       ":   ```r\n",
       "function (x, ...) \n",
       "colnames(x$learn$X)\n",
       "```\n",
       "$tags\n",
       ":   'Prototype Models'\n",
       "$prob\n",
       ":   ```r\n",
       "function (modelFit, newdata, submodels = NULL) \n",
       "predict(modelFit, newdata, type = \"prob\")\n",
       "```\n",
       "$levels\n",
       ":   ```r\n",
       "function (x) \n",
       "levels(x$learn$y)\n",
       "```\n",
       "$sort\n",
       ":   ```r\n",
       "function (x) \n",
       "x[order(-x[, 1]), ]\n",
       "```\n",
       "\n",
       "\n"
      ],
      "text/plain": [
       "$knn\n",
       "$knn$label\n",
       "[1] \"k-Nearest Neighbors\"\n",
       "\n",
       "$knn$library\n",
       "NULL\n",
       "\n",
       "$knn$loop\n",
       "NULL\n",
       "\n",
       "$knn$type\n",
       "[1] \"Classification\" \"Regression\"    \n",
       "\n",
       "$knn$parameters\n",
       "  parameter   class      label\n",
       "1         k numeric #Neighbors\n",
       "\n",
       "$knn$grid\n",
       "function(x, y, len = NULL, search = \"grid\"){\n",
       "                    if(search == \"grid\") {\n",
       "                      out <- data.frame(k = (5:((2 * len)+4))[(5:((2 * len)+4))%%2 > 0])\n",
       "                    } else {\n",
       "                      by_val <- if(is.factor(y)) length(levels(y)) else 1\n",
       "                      out <- data.frame(k = sample(seq(1, floor(nrow(x)/3), by = by_val), size = len, replace = TRUE))\n",
       "                    }\n",
       "                  }\n",
       "\n",
       "$knn$fit\n",
       "function(x, y, wts, param, lev, last, classProbs, ...) {\n",
       "                    if(is.factor(y))\n",
       "                    {\n",
       "                      knn3(as.matrix(x), y, k = param$k, ...)\n",
       "                    } else {\n",
       "                      knnreg(as.matrix(x), y, k = param$k, ...)\n",
       "                    }\n",
       "                  }\n",
       "\n",
       "$knn$predict\n",
       "function(modelFit, newdata, submodels = NULL) {\n",
       "                    if(modelFit$problemType == \"Classification\")\n",
       "                    {\n",
       "                      out <- predict(modelFit, newdata,  type = \"class\")\n",
       "                    } else {\n",
       "                      out <- predict(modelFit, newdata)\n",
       "                    }\n",
       "                    out\n",
       "                  }\n",
       "\n",
       "$knn$predictors\n",
       "function(x, ...) colnames(x$learn$X)\n",
       "\n",
       "$knn$tags\n",
       "[1] \"Prototype Models\"\n",
       "\n",
       "$knn$prob\n",
       "function(modelFit, newdata, submodels = NULL)\n",
       "                    predict(modelFit, newdata, type = \"prob\")\n",
       "\n",
       "$knn$levels\n",
       "function(x) levels(x$learn$y)\n",
       "\n",
       "$knn$sort\n",
       "function(x) x[order(-x[,1]),]\n",
       "\n"
      ]
     },
     "metadata": {},
     "output_type": "display_data"
    }
   ],
   "source": [
    "## In R, you can simply get the model information using the function *getModelInfo* provided by *caret* package.\n",
    "## check how to use function getModelInfo\n",
    "? getModelInfo\n",
    "## check the specifics of the model k-NN. Since there are many different variations of k-NN, we want to match the model tag exactly by turning off the regular expression match.\n",
    "getModelInfo(model=\"knn\",regex=FALSE)"
   ]
  },
  {
   "cell_type": "markdown",
   "metadata": {},
   "source": [
    "This model information tells us that there is only one model hyperparameter need to be specified to train a k-NN model. To start with the model, we will simply use _**k = 9**_ for our first k-NN model without any cross-validation. "
   ]
  },
  {
   "cell_type": "code",
   "execution_count": 11,
   "metadata": {},
   "outputs": [
    {
     "data": {
      "text/plain": [
       "k-Nearest Neighbors \n",
       "\n",
       "700 samples\n",
       "  6 predictor\n",
       "  2 classes: 'Forest', 'Water' \n",
       "\n",
       "No pre-processing\n",
       "Resampling: None "
      ]
     },
     "metadata": {},
     "output_type": "display_data"
    }
   ],
   "source": [
    "set.seed(998)\n",
    "## To start our model, we will fix k = 9 without cross validation\n",
    "\n",
    "## In *caret*, the function **trainControl** compiles the model training process.\n",
    "## trainControl function sepecifies whether and how to train your model\n",
    "## you can use \"? trainControl\" to find out more information \n",
    "## or visit this webpage: https://topepo.github.io/caret/model-training-and-tuning.html#basic-parameter-tuning\n",
    "\n",
    "knnControl <- trainControl(method = \"none\", classProbs = TRUE) ## here, we specify no cross validation\n",
    "\n",
    "## using train function to train the model\n",
    "knnClassifier <- train(Class ~ B1 + B2 + B3 + B4 + B5 + B6, data = binTrain, method = \"knn\", \n",
    "                 trControl = knnControl, tuneGrid = data.frame(k=9)) ## fix k value as 9\n",
    "\n",
    "knnClassifier"
   ]
  },
  {
   "cell_type": "markdown",
   "metadata": {},
   "source": [
    "### 2.2 - Generate confusion matrix  \n",
    "\n",
    "Just like that, we have our k-NN classifier. How did our model do? We can find out using the confusion matrix, the best way to evaluation a classification model by tabulating the model generated classes against the reference classes as a matrix.  "
   ]
  },
  {
   "cell_type": "code",
   "execution_count": 12,
   "metadata": {},
   "outputs": [
    {
     "data": {
      "text/plain": [
       "Confusion Matrix and Statistics\n",
       "\n",
       "          Reference\n",
       "Prediction Forest Water\n",
       "    Forest    292    21\n",
       "    Water       8   379\n",
       "                                         \n",
       "               Accuracy : 0.9586         \n",
       "                 95% CI : (0.941, 0.9721)\n",
       "    No Information Rate : 0.5714         \n",
       "    P-Value [Acc > NIR] : < 2e-16        \n",
       "                                         \n",
       "                  Kappa : 0.9159         \n",
       "                                         \n",
       " Mcnemar's Test P-Value : 0.02586        \n",
       "                                         \n",
       "            Sensitivity : 0.9733         \n",
       "            Specificity : 0.9475         \n",
       "         Pos Pred Value : 0.9329         \n",
       "         Neg Pred Value : 0.9793         \n",
       "             Prevalence : 0.4286         \n",
       "         Detection Rate : 0.4171         \n",
       "   Detection Prevalence : 0.4471         \n",
       "      Balanced Accuracy : 0.9604         \n",
       "                                         \n",
       "       'Positive' Class : Forest         \n",
       "                                         "
      ]
     },
     "metadata": {},
     "output_type": "display_data"
    }
   ],
   "source": [
    "## First, we can extract the predicted class of our k-nn (k=9) model\n",
    "predClass <- predict(knnClassifier)\n",
    "## Now, we can combine the predicted class and true class in the trainData to construct our confusion matrix\n",
    "knnMatrix <- confusionMatrix(predClass, binTrain$Class)\n",
    "knnMatrix"
   ]
  },
  {
   "cell_type": "markdown",
   "metadata": {},
   "source": [
    "From the output of our confusion matrix, we get a quite good k-NN model with overall accuracy of classification (**a=0.9586**). Only 29 samples were misclassified in this model.\n",
    "\n",
    "### 2.3 - Random forest  \n",
    "\n",
    "There are more sophiscated model that we can use to address more sophisicated classification problem. Here, we choose to introduce [random forest](https://en.wikipedia.org/wiki/Random_forest) model because of it robust performance in many applications. The random forest is an ensemble learning model by creating a suite of decision trees at training time and outputting the class that is the majority of the classes from each individual tree for classification problem. The fundamental idea of random forest  model is that the collective power of multiple \"weak\" models can outperform any individual \"strong\" model. It can address overfitting issue comparing to the regular decision tree model.  \n",
    "\n",
    "Similar with k-NN, there are different flavors of random forest model. We are using the classic random forest model with *caret* package with the tag *\"ranger\"*. As the model gets more complicated, we have more to consider about the model structure, such as, how many variables we want to have as input for each tree (*mtry*), the depth of a decision tree (*min.node.size*). These could all have potential impact on our final model outcomes. "
   ]
  },
  {
   "cell_type": "code",
   "execution_count": 13,
   "metadata": {},
   "outputs": [
    {
     "data": {
      "text/plain": [
       "Confusion Matrix and Statistics\n",
       "\n",
       "          Reference\n",
       "Prediction Forest Water\n",
       "    Forest    300     0\n",
       "    Water       0   400\n",
       "                                     \n",
       "               Accuracy : 1          \n",
       "                 95% CI : (0.9947, 1)\n",
       "    No Information Rate : 0.5714     \n",
       "    P-Value [Acc > NIR] : < 2.2e-16  \n",
       "                                     \n",
       "                  Kappa : 1          \n",
       "                                     \n",
       " Mcnemar's Test P-Value : NA         \n",
       "                                     \n",
       "            Sensitivity : 1.0000     \n",
       "            Specificity : 1.0000     \n",
       "         Pos Pred Value : 1.0000     \n",
       "         Neg Pred Value : 1.0000     \n",
       "             Prevalence : 0.4286     \n",
       "         Detection Rate : 0.4286     \n",
       "   Detection Prevalence : 0.4286     \n",
       "      Balanced Accuracy : 1.0000     \n",
       "                                     \n",
       "       'Positive' Class : Forest     \n",
       "                                     "
      ]
     },
     "metadata": {},
     "output_type": "display_data"
    }
   ],
   "source": [
    "## we can still get the model info using getModelInfo()\n",
    "# getModelInfo(\"ranger\", regex=FALSE)\n",
    "\n",
    "## Let's fixed the number of predictors that we want to use as 4 and number of min.node.size=1\n",
    "## still we do not do a cross validation now\n",
    "rfControl <- trainControl(method = \"none\", classProbs = TRUE)\n",
    "\n",
    "set.seed(973)\n",
    "\n",
    "## Train the random forest model using train function \n",
    "rfClassifier <- train(Class ~ B1 + B2 + B3 + B4 + B5 + B6, data = binTrain, method = \"ranger\", \n",
    "                 trControl = rfControl, tuneGrid = data.frame(mtry=4, min.node.size=1, splitrule=\"gini\")) \n",
    "## fix mtry=4, min.node.size=1, splitrule=\"gini\"\n",
    "\n",
    "## with the trained random forest, let's see the confusion matrix here\n",
    "predClass <- predict(rfClassifier)\n",
    "## Now, we can combine the predicted class and true class in the binTrain to construct our confusion matrix\n",
    "rfMatrix <- confusionMatrix(predClass, binTrain$Class)\n",
    "rfMatrix"
   ]
  },
  {
   "cell_type": "markdown",
   "metadata": {},
   "source": [
    "It looks like random forest did a perfect job on separating these two classes in the training data with an overall accuracy of 1. But is it too good to be true? \n",
    "\n",
    "### 2.4 - Evaluate model using testing data  \n",
    "\n",
    "In order to make sure this performance is not just for the training data, we need to evaluate our random forest model on the independent testing data that we set aside at the beginning.  "
   ]
  },
  {
   "cell_type": "code",
   "execution_count": 14,
   "metadata": {},
   "outputs": [
    {
     "name": "stdout",
     "output_type": "stream",
     "text": [
      "[1] \"Testing Confusion Matrix for binary k-NN classification model\"\n"
     ]
    },
    {
     "data": {
      "text/plain": [
       "Confusion Matrix and Statistics\n",
       "\n",
       "          Reference\n",
       "Prediction Forest Water\n",
       "    Forest     73     5\n",
       "    Water       2    95\n",
       "                                          \n",
       "               Accuracy : 0.96            \n",
       "                 95% CI : (0.9193, 0.9838)\n",
       "    No Information Rate : 0.5714          \n",
       "    P-Value [Acc > NIR] : <2e-16          \n",
       "                                          \n",
       "                  Kappa : 0.9187          \n",
       "                                          \n",
       " Mcnemar's Test P-Value : 0.4497          \n",
       "                                          \n",
       "            Sensitivity : 0.9733          \n",
       "            Specificity : 0.9500          \n",
       "         Pos Pred Value : 0.9359          \n",
       "         Neg Pred Value : 0.9794          \n",
       "             Prevalence : 0.4286          \n",
       "         Detection Rate : 0.4171          \n",
       "   Detection Prevalence : 0.4457          \n",
       "      Balanced Accuracy : 0.9617          \n",
       "                                          \n",
       "       'Positive' Class : Forest          \n",
       "                                          "
      ]
     },
     "metadata": {},
     "output_type": "display_data"
    },
    {
     "name": "stdout",
     "output_type": "stream",
     "text": [
      "[1] \"Testing Confusion Matrix for binary random forest classification model\"\n"
     ]
    },
    {
     "data": {
      "text/plain": [
       "Confusion Matrix and Statistics\n",
       "\n",
       "          Reference\n",
       "Prediction Forest Water\n",
       "    Forest     72     4\n",
       "    Water       3    96\n",
       "                                          \n",
       "               Accuracy : 0.96            \n",
       "                 95% CI : (0.9193, 0.9838)\n",
       "    No Information Rate : 0.5714          \n",
       "    P-Value [Acc > NIR] : <2e-16          \n",
       "                                          \n",
       "                  Kappa : 0.9185          \n",
       "                                          \n",
       " Mcnemar's Test P-Value : 1               \n",
       "                                          \n",
       "            Sensitivity : 0.9600          \n",
       "            Specificity : 0.9600          \n",
       "         Pos Pred Value : 0.9474          \n",
       "         Neg Pred Value : 0.9697          \n",
       "             Prevalence : 0.4286          \n",
       "         Detection Rate : 0.4114          \n",
       "   Detection Prevalence : 0.4343          \n",
       "      Balanced Accuracy : 0.9600          \n",
       "                                          \n",
       "       'Positive' Class : Forest          \n",
       "                                          "
      ]
     },
     "metadata": {},
     "output_type": "display_data"
    }
   ],
   "source": [
    "## Applying our k-NN and random forest model to our binTest & generate confusion matrix for testing data\n",
    "knnTest <- predict(knnClassifier, newdata = binTest)\n",
    "knnMatrixTest <- confusionMatrix(knnTest, binTest$Class)\n",
    "\n",
    "print(\"Testing Confusion Matrix for binary k-NN classification model\")\n",
    "knnMatrixTest\n",
    "\n",
    "rfTest <- predict(rfClassifier, newdata = binTest)\n",
    "rfMatrixTest <- confusionMatrix(rfTest, binTest$Class)\n",
    "\n",
    "print(\"Testing Confusion Matrix for binary random forest classification model\")\n",
    "rfMatrixTest"
   ]
  },
  {
   "cell_type": "markdown",
   "metadata": {},
   "source": [
    "It looks like the testing performance of the k-NN model and random forest model is equally good with the same overall accuracy 0.96, which is still a job well done! But can we improve the model performance by changing the hyperparameters that we set as fixed values?\n",
    "\n",
    "## 3- Cross validation \n",
    "\n",
    "To explore the optimum combination of the model hyperparameters, we typically uses the cross validation (CV) strategy. There are different type of cross validation strategy, such as, k-fold cross validation, leave-one-out cross validation, repeated cross validation. More information can be found in this [well written article about the importance of CV for machine learning](https://www.digitalvidya.com/blog/cross-validation-in-machine-learning/).  \n",
    "\n",
    "The most commonly used CV strategy is usually [k-fold CV](https://machinelearningmastery.com/k-fold-cross-validation/). But it still depends on the data that have for your problem. If you are using time series data, your cross validation strategy will be different since you want to account for the tempooral autocorrelation within your data. Same idea applies when your data have strong spatial auto correlation. But today, let's assume that k-fold CV can solve our problem. \n",
    "\n",
    "### 3.1 k-fold cross validation\n",
    "\n",
    "We can use a 10-fold CV to find the optimum hyperparameters for our two classification models (i.e., k-NN and random forest). "
   ]
  },
  {
   "cell_type": "code",
   "execution_count": 15,
   "metadata": {},
   "outputs": [
    {
     "name": "stdout",
     "output_type": "stream",
     "text": [
      "'data.frame':\t7 obs. of  1 variable:\n",
      " $ k: num  3 5 7 9 11 13 15\n",
      "[1] \"10-fold Cross Validation for binary k-NN classification\"\n"
     ]
    },
    {
     "data": {
      "text/plain": [
       "k-Nearest Neighbors \n",
       "\n",
       "700 samples\n",
       "  6 predictor\n",
       "  2 classes: 'Forest', 'Water' \n",
       "\n",
       "No pre-processing\n",
       "Resampling: Cross-Validated (10 fold) \n",
       "Summary of sample sizes: 630, 630, 630, 630, 630, 630, ... \n",
       "Resampling results across tuning parameters:\n",
       "\n",
       "  k   Accuracy   Kappa    \n",
       "   3  0.9514286  0.9014513\n",
       "   5  0.9542857  0.9071425\n",
       "   7  0.9542857  0.9073310\n",
       "   9  0.9500000  0.8985935\n",
       "  11  0.9471429  0.8926880\n",
       "  13  0.9414286  0.8808278\n",
       "  15  0.9414286  0.8808777\n",
       "\n",
       "Accuracy was used to select the optimal model using the largest value.\n",
       "The final value used for the model was k = 7."
      ]
     },
     "metadata": {},
     "output_type": "display_data"
    },
    {
     "data": {
      "text/plain": [
       "Cross-Validated (10 fold) Confusion Matrix \n",
       "\n",
       "(entries are percentual average cell counts across resamples)\n",
       " \n",
       "          Reference\n",
       "Prediction Forest Water\n",
       "    Forest   41.4   3.1\n",
       "    Water     1.4  54.0\n",
       "                            \n",
       " Accuracy (average) : 0.9543\n"
      ]
     },
     "metadata": {},
     "output_type": "display_data"
    },
    {
     "data": {
      "image/png": "[encoded data removed]",
      "text/plain": [
       "plot without title"
      ]
     },
     "metadata": {
      "image/png": {
       "height": 420,
       "width": 420
      },
      "text/plain": {
       "height": 420,
       "width": 420
      }
     },
     "output_type": "display_data"
    }
   ],
   "source": [
    "## here, we modify the trainControl function to use 10-fold cross-validation \n",
    "cvControl <- trainControl(method=\"cv\", number = 10)\n",
    "\n",
    "## we also need to specify the grid we want the hyperparameter tuning to search\n",
    "knnGrid <- data.frame(k = seq(3,15,2)); str(knnGrid)\n",
    "\n",
    "set.seed(982)\n",
    "## Now, we can implement the cross-validation using train function\n",
    "knnCV <- train(Class ~ B1 + B2 + B3 + B4 + B5 + B6, data = binTrain, method = \"knn\", \n",
    "               trControl = cvControl, tuneGrid = knnGrid)\n",
    "\n",
    "## Here is how our the cross-validation output looks like for the k-NN\n",
    "print(\"10-fold Cross Validation for binary k-NN classification\")\n",
    "knnCV\n",
    "\n",
    "## we can see the average performance of the cross validation via confusion matrix\n",
    "confusionMatrix(knnCV)\n",
    "\n",
    "## We can plot the accuracy as a function of different k values to assist our selection of the hyperparameter\n",
    "trellis.par.set(caretTheme())  ## here, we set the them for the plot\n",
    "plot(knnCV) "
   ]
  },
  {
   "cell_type": "markdown",
   "metadata": {},
   "source": [
    "It shows us the k-NN model reaches the best performance when k is set to **7** with the highest overall accuracy.\n",
    "\n",
    "Now, we can do the same thing for the random forest model we just developed but with more hyperparameters to adjust for."
   ]
  },
  {
   "cell_type": "code",
   "execution_count": 16,
   "metadata": {},
   "outputs": [
    {
     "name": "stdout",
     "output_type": "stream",
     "text": [
      "'data.frame':\t16 obs. of  3 variables:\n",
      " $ mtry         : num  2 3 4 5 2 3 4 5 2 3 ...\n",
      " $ min.node.size: num  1 1 1 1 3 3 3 3 5 5 ...\n",
      " $ splitrule    : Factor w/ 1 level \"gini\": 1 1 1 1 1 1 1 1 1 1 ...\n",
      " - attr(*, \"out.attrs\")=List of 2\n",
      "  ..$ dim     : Named int  4 4 1\n",
      "  .. ..- attr(*, \"names\")= chr  \"mtry\" \"min.node.size\" \"splitrule\"\n",
      "  ..$ dimnames:List of 3\n",
      "  .. ..$ mtry         : chr  \"mtry=2\" \"mtry=3\" \"mtry=4\" \"mtry=5\"\n",
      "  .. ..$ min.node.size: chr  \"min.node.size=1\" \"min.node.size=3\" \"min.node.size=5\" \"min.node.size=7\"\n",
      "  .. ..$ splitrule    : chr \"splitrule=gini\"\n",
      "[1] \"10-fold Cross Validation for binary random forest classification\"\n"
     ]
    },
    {
     "data": {
      "text/plain": [
       "Random Forest \n",
       "\n",
       "700 samples\n",
       "  6 predictor\n",
       "  2 classes: 'Forest', 'Water' \n",
       "\n",
       "No pre-processing\n",
       "Resampling: Cross-Validated (10 fold) \n",
       "Summary of sample sizes: 630, 630, 630, 630, 630, 630, ... \n",
       "Resampling results across tuning parameters:\n",
       "\n",
       "  mtry  min.node.size  Accuracy   Kappa    \n",
       "  2     1              0.9542857  0.9072377\n",
       "  2     3              0.9528571  0.9043820\n",
       "  2     5              0.9542857  0.9071665\n",
       "  2     7              0.9514286  0.9014305\n",
       "  3     1              0.9528571  0.9043829\n",
       "  3     3              0.9542857  0.9073344\n",
       "  3     5              0.9528571  0.9042862\n",
       "  3     7              0.9557143  0.9102628\n",
       "  4     1              0.9528571  0.9043080\n",
       "  4     3              0.9557143  0.9102389\n",
       "  4     5              0.9528571  0.9043340\n",
       "  4     7              0.9528571  0.9044290\n",
       "  5     1              0.9557143  0.9102389\n",
       "  5     3              0.9585714  0.9160481\n",
       "  5     5              0.9557143  0.9102389\n",
       "  5     7              0.9542857  0.9073586\n",
       "\n",
       "Tuning parameter 'splitrule' was held constant at a value of gini\n",
       "Accuracy was used to select the optimal model using the largest value.\n",
       "The final values used for the model were mtry = 5, splitrule = gini\n",
       " and min.node.size = 3."
      ]
     },
     "metadata": {},
     "output_type": "display_data"
    },
    {
     "data": {
      "text/plain": [
       "Cross-Validated (10 fold) Confusion Matrix \n",
       "\n",
       "(entries are percentual average cell counts across resamples)\n",
       " \n",
       "          Reference\n",
       "Prediction Forest Water\n",
       "    Forest   41.6   2.9\n",
       "    Water     1.3  54.3\n",
       "                            \n",
       " Accuracy (average) : 0.9586\n"
      ]
     },
     "metadata": {},
     "output_type": "display_data"
    },
    {
     "data": {
      "image/png": "[encoded data removed]",
      "text/plain": [
       "plot without title"
      ]
     },
     "metadata": {
      "image/png": {
       "height": 420,
       "width": 420
      },
      "text/plain": {
       "height": 420,
       "width": 420
      }
     },
     "output_type": "display_data"
    }
   ],
   "source": [
    "## here, we modify the trainControl function to use 10-fold cross-validation \n",
    "cvControl <- trainControl(method=\"cv\", number = 10)\n",
    "\n",
    "## we also need to specify the grid we want the hyperparameter tuning to search\n",
    "rfGrid <- expand.grid(mtry = seq(2,5,1), min.node.size=seq(1,7,2), splitrule=\"gini\"); \n",
    "str(rfGrid)\n",
    "\n",
    "set.seed(982)\n",
    "## Now, we can implement the cross-validation using train function\n",
    "rfCV <- train(Class ~ B1 + B2 + B3 + B4 + B5 + B6, data = binTrain, method = \"ranger\", \n",
    "              trControl = cvControl, tuneGrid = rfGrid)\n",
    "\n",
    "## Here is how our the cross-validation output looks like for the k-NN\n",
    "print(\"10-fold Cross Validation for binary random forest classification\")\n",
    "rfCV\n",
    "\n",
    "## we can see the average performance of the cross validation via confusion matrix\n",
    "confusionMatrix(rfCV)\n",
    "\n",
    "## We can plot the accuracy as a function of different hyperparameter to assist our selection of the hyperparameter\n",
    "trellis.par.set(caretTheme())  ## here, we set the them for the plot\n",
    "plot(rfCV) "
   ]
  },
  {
   "cell_type": "markdown",
   "metadata": {},
   "source": [
    "You may have noticed that the overall accuracy number in the cross-validation for random forest is different from the training accuracy earlier. That's because cross-validation reports the performance of the model based on the average performance of all (5) models on the hold-out dataset. It is not the training accuracy as we see before.  \n",
    "But the corss validation results inform us that the random forest model performs best when the maximum number of variables used for individual tree (*mtry*) should be **5** and the minimum number of samples within a branch of the decision tree (*min.node.size*) should be **3**.  \n",
    "\n",
    "## 4 - Model selection\n",
    "\n",
    "Now, we have two binary classification models - a k-NN classifier and a random forest classifier. Given these models, can we make statistical statements about their performance differences, thus leading us to the decision which model shall we use?\n"
   ]
  },
  {
   "cell_type": "code",
   "execution_count": 17,
   "metadata": {},
   "outputs": [
    {
     "data": {
      "image/png": "[encoded data removed]",
      "text/plain": [
       "plot without title"
      ]
     },
     "metadata": {
      "image/png": {
       "height": 420,
       "width": 420
      },
      "text/plain": {
       "height": 420,
       "width": 420
      }
     },
     "output_type": "display_data"
    }
   ],
   "source": [
    "## We can first create a list of resamples from previous cross validation results\n",
    "resModels <- resamples(list(kNN = knnCV, RF = rfCV))\n",
    "\n",
    "## Now we can visualize the differences of these two models\n",
    "## First, let's set the theme for the plot\n",
    "theme1 <- trellis.par.get()\n",
    "theme1$plot.symbol$col = rgb(.2, .2, .2, .4)\n",
    "theme1$plot.symbol$pch = 16\n",
    "theme1$plot.line$col = rgb(1, 0, 0, .7)\n",
    "theme1$plot.line$lwd <- 2\n",
    "trellis.par.set(theme1)\n",
    "bwplot(resModels, layout = c(2, 1))\n"
   ]
  },
  {
   "cell_type": "markdown",
   "metadata": {},
   "source": [
    "From the boxplot, it seems like that there is slight edge of random forest (RF) over k-NN based on the cross-vdalition results. We can also apply both model to the independent testing dataset."
   ]
  },
  {
   "cell_type": "code",
   "execution_count": 18,
   "metadata": {},
   "outputs": [
    {
     "name": "stdout",
     "output_type": "stream",
     "text": [
      "[1] \" Testing confusion matrix for k-NN classification \"\n"
     ]
    },
    {
     "data": {
      "text/plain": [
       "Confusion Matrix and Statistics\n",
       "\n",
       "          Reference\n",
       "Prediction Forest Water\n",
       "    Forest     73     4\n",
       "    Water       2    96\n",
       "                                          \n",
       "               Accuracy : 0.9657          \n",
       "                 95% CI : (0.9269, 0.9873)\n",
       "    No Information Rate : 0.5714          \n",
       "    P-Value [Acc > NIR] : <2e-16          \n",
       "                                          \n",
       "                  Kappa : 0.9302          \n",
       "                                          \n",
       " Mcnemar's Test P-Value : 0.6831          \n",
       "                                          \n",
       "            Sensitivity : 0.9733          \n",
       "            Specificity : 0.9600          \n",
       "         Pos Pred Value : 0.9481          \n",
       "         Neg Pred Value : 0.9796          \n",
       "             Prevalence : 0.4286          \n",
       "         Detection Rate : 0.4171          \n",
       "   Detection Prevalence : 0.4400          \n",
       "      Balanced Accuracy : 0.9667          \n",
       "                                          \n",
       "       'Positive' Class : Forest          \n",
       "                                          "
      ]
     },
     "metadata": {},
     "output_type": "display_data"
    },
    {
     "name": "stdout",
     "output_type": "stream",
     "text": [
      "[1] \" Testing confusion matrix for random forest classification \"\n"
     ]
    },
    {
     "data": {
      "text/plain": [
       "Confusion Matrix and Statistics\n",
       "\n",
       "          Reference\n",
       "Prediction Forest Water\n",
       "    Forest     72     4\n",
       "    Water       3    96\n",
       "                                          \n",
       "               Accuracy : 0.96            \n",
       "                 95% CI : (0.9193, 0.9838)\n",
       "    No Information Rate : 0.5714          \n",
       "    P-Value [Acc > NIR] : <2e-16          \n",
       "                                          \n",
       "                  Kappa : 0.9185          \n",
       "                                          \n",
       " Mcnemar's Test P-Value : 1               \n",
       "                                          \n",
       "            Sensitivity : 0.9600          \n",
       "            Specificity : 0.9600          \n",
       "         Pos Pred Value : 0.9474          \n",
       "         Neg Pred Value : 0.9697          \n",
       "             Prevalence : 0.4286          \n",
       "         Detection Rate : 0.4114          \n",
       "   Detection Prevalence : 0.4343          \n",
       "      Balanced Accuracy : 0.9600          \n",
       "                                          \n",
       "       'Positive' Class : Forest          \n",
       "                                          "
      ]
     },
     "metadata": {},
     "output_type": "display_data"
    }
   ],
   "source": [
    "\n",
    "## apply the model to our testing data\n",
    "knnCVTest <- predict(knnCV, newdata = binTest)\n",
    "rfCVTest  <- predict(rfCV , newdata = binTest)\n",
    "\n",
    "## generate the confusion matrix for the testing data\n",
    "knnCVMatrix <- confusionMatrix(knnCVTest, binTest$Class)\n",
    " rfCVMatrix <- confusionMatrix( rfCVTest, binTest$Class)\n",
    " \n",
    "print(\" Testing confusion matrix for k-NN classification \")\n",
    "knnCVMatrix\n",
    "\n",
    "print(\" Testing confusion matrix for random forest classification \")\n",
    "rfCVMatrix\n"
   ]
  },
  {
   "cell_type": "markdown",
   "metadata": {},
   "source": [
    "Both of them acheives similar overall accuracy for the binary classification tasks (~0.96). This is reasonable as we have seen in the scatter plot earlier they are pretty separable. How would these two models performs for multiclass classification?  \n",
    "\n",
    "## 5 - Multiclass classification  \n",
    "\n",
    "Now, let's try to build the multiclass classifier using 10-fold cross validation via k-nn (for the compuation efficiency reason). "
   ]
  },
  {
   "cell_type": "code",
   "execution_count": 19,
   "metadata": {},
   "outputs": [
    {
     "name": "stdout",
     "output_type": "stream",
     "text": [
      "'data.frame':\t11 obs. of  1 variable:\n",
      " $ k: num  5 7 9 11 13 15 17 19 21 23 ...\n",
      " - attr(*, \"out.attrs\")=List of 2\n",
      "  ..$ dim     : Named int 11\n",
      "  .. ..- attr(*, \"names\")= chr \"k\"\n",
      "  ..$ dimnames:List of 1\n",
      "  .. ..$ k: chr  \"k= 5\" \"k= 7\" \"k= 9\" \"k=11\" ...\n"
     ]
    },
    {
     "data": {
      "text/plain": [
       "Cross-Validated (10 fold) Confusion Matrix \n",
       "\n",
       "(entries are percentual average cell counts across resamples)\n",
       " \n",
       "          Reference\n",
       "Prediction Forest Corn  Soy Urban Water\n",
       "    Forest   12.7  1.2  0.4   3.3   0.8\n",
       "    Corn      0.7  9.6  6.9   2.4   0.1\n",
       "    Soy       0.7  7.9 11.2   2.7   0.1\n",
       "    Urban     0.9  2.3  2.6  12.1   0.5\n",
       "    Water     0.7  0.1  0.0   0.5  19.6\n",
       "                            \n",
       " Accuracy (average) : 0.6521\n"
      ]
     },
     "metadata": {},
     "output_type": "display_data"
    }
   ],
   "source": [
    "cvControl <- trainControl(method=\"cv\", number = 10) ## 10-fold cross validation\n",
    "\n",
    "## since we have five classes in the data, let's increase the number of neighbors since we might need more opinion for each class\n",
    "knnGrid <- expand.grid(k=seq(5,25,2)); str(knnGrid)\n",
    "\n",
    "set.seed(982)\n",
    "## Train our k-nn model\n",
    "knnMulti <- train(Class ~ B1 + B2 + B3 + B4 + B5 + B6, data = trainData, method = \"knn\", \n",
    "                  trControl = cvControl, tuneGrid = knnGrid)\n",
    "\n",
    "confusionMatrix(knnMulti)"
   ]
  },
  {
   "cell_type": "markdown",
   "metadata": {},
   "source": [
    "The 10-fold CV tells us that when **k=13** we got the best overall accuracy. Let's look at what the model performance look like this time.  \n"
   ]
  },
  {
   "cell_type": "code",
   "execution_count": 20,
   "metadata": {},
   "outputs": [
    {
     "data": {
      "image/png": "[encoded data removed]",
      "text/plain": [
       "plot without title"
      ]
     },
     "metadata": {
      "image/png": {
       "height": 420,
       "width": 420
      },
      "text/plain": {
       "height": 420,
       "width": 420
      }
     },
     "output_type": "display_data"
    }
   ],
   "source": [
    "## We can plot the accuracy as a function of different hyperparameter to assist our selection of the hyperparameter\n",
    "trellis.par.set(caretTheme())  ## here, we set the them for the plot\n",
    "plot(knnMulti) "
   ]
  },
  {
   "cell_type": "markdown",
   "metadata": {},
   "source": [
    "The overall acurracy dropped significantly comparing to the binary results. When we take a closer look at the confusion matrix above, the corn and soy are mixed heavily by k-NN. This is understandable as we have seem in the feature space that they were quite hard to be separated based on our data.\n",
    "\n",
    "## 6 - Activity  \n",
    "\n",
    "Maybe you will ask can random forest help with the issue? It's a fun activity time for you to implement a random forest model for this multiclass classification problem. You should try to use a 10-fold cross validation strategy to figure out the best hyperparameter for your model. "
   ]
  },
  {
   "cell_type": "code",
   "execution_count": 21,
   "metadata": {},
   "outputs": [],
   "source": [
    "## STEP 1 - Setting training control\n",
    "\n",
    "## Step 2 - setting searching grid for your hyperparameter tuning\n",
    "\n",
    "## Step 3 - inplement your cross validation training\n",
    "\n",
    "## Step 4 - visualize your cross validation results\n",
    "\n",
    "## Step 5 - report your final model performance\n",
    "\n",
    "## Step 6 - Compare with the k-NN model result\n"
   ]
  }
 ],
 "metadata": {
  "kernelspec": {
   "display_name": "R",
   "language": "R",
   "name": "ir"
  },
  "language_info": {
   "codemirror_mode": "r",
   "file_extension": ".r",
   "mimetype": "text/x-r-source",
   "name": "R",
   "pygments_lexer": "r",
   "version": "3.6.3"
  }
 },
 "nbformat": 4,
 "nbformat_minor": 4
}
